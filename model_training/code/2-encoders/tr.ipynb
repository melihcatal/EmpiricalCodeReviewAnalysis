{
 "cells": [
  {
   "cell_type": "code",
   "execution_count": 1,
   "metadata": {},
   "outputs": [
    {
     "name": "stdout",
     "output_type": "stream",
     "text": [
      "Building vocabularies...\n",
      "Starting Training...\n"
     ]
    },
    {
     "name": "stderr",
     "output_type": "stream",
     "text": [
      "Traceback (most recent call last):\n",
      "  File \"/Users/melih/.pyenv/versions/3.10.10/bin/onmt-build-vocab\", line 5, in <module>\n",
      "    from opennmt.bin.build_vocab import main\n",
      "  File \"/Users/melih/.pyenv/versions/3.10.10/lib/python3.10/site-packages/opennmt/__init__.py\", line 5, in <module>\n",
      "    _check_tf_version()\n",
      "  File \"/Users/melih/.pyenv/versions/3.10.10/lib/python3.10/site-packages/opennmt/version.py\", line 12, in _check_tf_version\n",
      "    import tensorflow as tf\n",
      "ModuleNotFoundError: No module named 'tensorflow'\n",
      "Traceback (most recent call last):\n",
      "  File \"/Users/melih/.pyenv/versions/3.10.10/bin/onmt-build-vocab\", line 5, in <module>\n",
      "    from opennmt.bin.build_vocab import main\n",
      "  File \"/Users/melih/.pyenv/versions/3.10.10/lib/python3.10/site-packages/opennmt/__init__.py\", line 5, in <module>\n",
      "    _check_tf_version()\n",
      "  File \"/Users/melih/.pyenv/versions/3.10.10/lib/python3.10/site-packages/opennmt/version.py\", line 12, in _check_tf_version\n",
      "    import tensorflow as tf\n",
      "ModuleNotFoundError: No module named 'tensorflow'\n",
      "Traceback (most recent call last):\n",
      "  File \"/Users/melih/.pyenv/versions/3.10.10/bin/onmt-build-vocab\", line 5, in <module>\n",
      "    from opennmt.bin.build_vocab import main\n",
      "  File \"/Users/melih/.pyenv/versions/3.10.10/lib/python3.10/site-packages/opennmt/__init__.py\", line 5, in <module>\n",
      "    _check_tf_version()\n",
      "  File \"/Users/melih/.pyenv/versions/3.10.10/lib/python3.10/site-packages/opennmt/version.py\", line 12, in _check_tf_version\n",
      "    import tensorflow as tf\n",
      "ModuleNotFoundError: No module named 'tensorflow'\n",
      "Traceback (most recent call last):\n",
      "  File \"/Users/melih/.pyenv/versions/3.10.10/bin/onmt-main\", line 5, in <module>\n",
      "    from opennmt.bin.main import main\n",
      "  File \"/Users/melih/.pyenv/versions/3.10.10/lib/python3.10/site-packages/opennmt/__init__.py\", line 5, in <module>\n",
      "    _check_tf_version()\n",
      "  File \"/Users/melih/.pyenv/versions/3.10.10/lib/python3.10/site-packages/opennmt/version.py\", line 12, in _check_tf_version\n",
      "    import tensorflow as tf\n",
      "ModuleNotFoundError: No module named 'tensorflow'\n"
     ]
    },
    {
     "data": {
      "text/plain": [
       "CompletedProcess(args='./train_model.sh', returncode=1)"
      ]
     },
     "execution_count": 1,
     "metadata": {},
     "output_type": "execute_result"
    }
   ],
   "source": [
    "import subprocess\n",
    "\n",
    "# DATA\n",
    "\n",
    "path_src1_train = '../../datasets/2-encoders/train/src1-train.txt'\n",
    "path_src2_train = '../../datasets/2-encoders/train/src2-train.txt'\n",
    "path_tgt_train = '../../datasets/2-encoders/train/tgt-train.txt'\n",
    "\n",
    "path_src1_val = '../../datasets/2-encoders/eval/src1-val.txt'\n",
    "path_src2_val = '../../datasets/2-encoders/eval/src2-val.txt'\n",
    "path_tgt_val = '../../datasets/2-encoders/eval/tgt-val.txt'\n",
    "\n",
    "# BUILD VOCAB\n",
    "\n",
    "f = open('./build_vocab.sh', 'w')\n",
    "f.close()\n",
    "subprocess.run('chmod a+x build_vocab.sh', shell=True)\n",
    "\n",
    "f = open('./build_vocab.sh', 'w')\n",
    "f.write('#!/usr/bin/env bash\\n')\n",
    "f.write('onmt-build-vocab --size 50000 --save_vocab src1-vocab.txt ' + path_src1_train + '\\n')\n",
    "f.write('onmt-build-vocab --size 50000 --save_vocab src2-vocab.txt ' + path_src2_train + '\\n')\n",
    "f.write('onmt-build-vocab --size 50000 --save_vocab tgt-vocab.txt ' + path_tgt_train)\n",
    "f.close()\n",
    "\n",
    "print('Building vocabularies...')\n",
    "subprocess.run('./build_vocab.sh')\n",
    "\n",
    "# TRAINING\n",
    "\n",
    "print('Starting Training...')\n",
    "f_sh = open('./train_model.sh', 'w')\n",
    "f_sh.close()\n",
    "\n",
    "subprocess.run('chmod a+x train_model.sh', shell=True)\n",
    "\n",
    "f_sh = open('./train_model.sh', 'w')\n",
    "f_sh.write('#!/usr/bin/env bash\\n')\n",
    "f_sh.write('onmt-main --model custom_2encoders_transformer.py --gpu_allow_growth --config data.yml --auto_config train --with_eval')\n",
    "f_sh.close()\n",
    "\n",
    "subprocess.run('./train_model.sh')\n"
   ]
  }
 ],
 "metadata": {
  "kernelspec": {
   "display_name": "base",
   "language": "python",
   "name": "python3"
  },
  "language_info": {
   "codemirror_mode": {
    "name": "ipython",
    "version": 3
   },
   "file_extension": ".py",
   "mimetype": "text/x-python",
   "name": "python",
   "nbconvert_exporter": "python",
   "pygments_lexer": "ipython3",
   "version": "3.9.12"
  },
  "orig_nbformat": 4
 },
 "nbformat": 4,
 "nbformat_minor": 2
}
