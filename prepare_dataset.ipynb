{
 "cells": [
  {
   "cell_type": "code",
   "execution_count": 14,
   "id": "991c9403",
   "metadata": {},
   "outputs": [],
   "source": [
    "import os"
   ]
  },
  {
   "cell_type": "code",
   "execution_count": 15,
   "id": "91d850e4",
   "metadata": {},
   "outputs": [],
   "source": [
    "dir_path = './data/github_old/'"
   ]
  },
  {
   "cell_type": "code",
   "execution_count": 18,
   "id": "8d2fd86b",
   "metadata": {},
   "outputs": [],
   "source": [
    "\"\"\"Returns true if the csv file is empty\"\"\"\n",
    "def is_csv_empty(path):\n",
    "    try:\n",
    "        if os.stat(dir_path + path).st_size == 0:\n",
    "            return True\n",
    "            \n",
    "    except FileNotFoundError:\n",
    "        return False"
   ]
  },
  {
   "cell_type": "markdown",
   "id": "f81f07b0",
   "metadata": {},
   "source": [
    "# Print number of entries before the dataset cleaning"
   ]
  },
  {
   "cell_type": "code",
   "execution_count": 19,
   "id": "42303fc6",
   "metadata": {},
   "outputs": [
    {
     "name": "stdout",
     "output_type": "stream",
     "text": [
      "2323\n"
     ]
    }
   ],
   "source": [
    "entries = os.listdir(dir_path)\n",
    "print(len([entry for entry in entries if os.path.isfile(os.path.join(dir_path, entry))]))"
   ]
  },
  {
   "cell_type": "markdown",
   "id": "d33cab2a",
   "metadata": {},
   "source": [
    "# Remove empty csv files"
   ]
  },
  {
   "cell_type": "code",
   "execution_count": 20,
   "id": "4a578487",
   "metadata": {},
   "outputs": [],
   "source": [
    "for entry in entries:\n",
    "    if is_csv_empty(entry):\n",
    "        os.remove(dir_path + entry)"
   ]
  },
  {
   "cell_type": "code",
   "execution_count": 22,
   "id": "115a4aac",
   "metadata": {},
   "outputs": [
    {
     "name": "stdout",
     "output_type": "stream",
     "text": [
      "1764\n"
     ]
    }
   ],
   "source": [
    "print(len([entry for entry in entries if os.path.isfile(os.path.join(dir_path, entry))]))"
   ]
  }
 ],
 "metadata": {
  "kernelspec": {
   "display_name": "Python 3 (ipykernel)",
   "language": "python",
   "name": "python3"
  },
  "language_info": {
   "codemirror_mode": {
    "name": "ipython",
    "version": 3
   },
   "file_extension": ".py",
   "mimetype": "text/x-python",
   "name": "python",
   "nbconvert_exporter": "python",
   "pygments_lexer": "ipython3",
   "version": "3.8.8"
  }
 },
 "nbformat": 4,
 "nbformat_minor": 5
}
